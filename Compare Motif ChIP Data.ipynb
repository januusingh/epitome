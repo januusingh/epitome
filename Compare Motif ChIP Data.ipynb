{
 "cells": [
  {
   "cell_type": "code",
   "execution_count": 34,
   "metadata": {},
   "outputs": [],
   "source": [
    "# import argparse\n",
    "import os\n",
    "from epitome.models import *\n",
    "from epitome.functions import *\n",
    "from epitome.viz  import *\n",
    "\n",
    "from epitome.constants import *\n",
    "# import yaml\n",
    "# import subprocess\n",
    "from timeit import default_timer as timer\n",
    "import numpy\n",
    "from sklearn.metrics import jaccard_score\n",
    "import matplotlib.pyplot as plt\n",
    "import seaborn as sn\n",
    "from sklearn.metrics import confusion_matrix\n",
    "import pybedtools"
   ]
  },
  {
   "cell_type": "code",
   "execution_count": 2,
   "metadata": {},
   "outputs": [],
   "source": [
    "# Data directories\n",
    "motif_dir = \"data/motif_data\"\n",
    "epitome_dir = \"data/epitome_data/\"\n",
    "feature_path = os.path.join(epitome_dir, \"feature_name\")"
   ]
  },
  {
   "cell_type": "code",
   "execution_count": 3,
   "metadata": {},
   "outputs": [],
   "source": [
    "# Load in data for epitome\n",
    "train_data = scipy.sparse.load_npz(os.path.join(epitome_dir, 'train.npz')).toarray()\n",
    "valid_data = scipy.sparse.load_npz(os.path.join(epitome_dir, 'valid.npz')).toarray()\n",
    "test_data = scipy.sparse.load_npz(os.path.join(epitome_dir, 'test.npz')).toarray()\n",
    "data = {Dataset.TRAIN: train_data, Dataset.VALID: valid_data, Dataset.TEST: test_data}\n",
    "\n",
    "regions_file = os.path.join(epitome_dir, POSITIONS_FILE)\n",
    "chip_data = concatenate_all_data(data, regions_file)"
   ]
  },
  {
   "cell_type": "code",
   "execution_count": 4,
   "metadata": {},
   "outputs": [],
   "source": [
    "# Original matrix and data\n",
    "matrix, cellmap, assaymap = get_assays_from_feature_file(feature_path,\n",
    "                                                         eligible_assays = None,\n",
    "                                                         eligible_cells = None, \n",
    "                                                         min_cells_per_assay = 2, \n",
    "                                                         min_assays_per_cell= 2)\n",
    "# matrix[[cellmap], [assaymap]] --> better to get feature names from here"
   ]
  },
  {
   "cell_type": "code",
   "execution_count": 5,
   "metadata": {},
   "outputs": [
    {
     "data": {
      "text/plain": [
       "(dict_keys(['DNase', 'ZZZ3', 'ZSCAN29', 'ZNF592', 'ZNF384', 'ZNF274', 'ZNF24', 'ZNF217', 'ZNF207', 'ZNF143', 'ZKSCAN1', 'ZHX1', 'ZFX', 'ZFP36', 'ZBTB7A', 'ZBTB40', 'ZBTB33', 'YY1', 'YBX1', 'USF2', 'USF1', 'UBTF', 'TRIM22', 'TOE1', 'TEAD4', 'TCF7L2', 'TCF7', 'TCF12', 'TBP', 'TBL1XR1', 'TARDBP', 'TAF7', 'TAF1', 'SUZ12', 'STAT5A', 'STAT3', 'STAT1', 'SRF', 'SREBF2', 'SREBF1', 'SPI1', 'SP2', 'SP1', 'SMC3', 'SMARCE1', 'SMARCC2', 'SMARCB1', 'SMARCA5', 'SMARCA4', 'SMAD5', 'SIX5', 'SIN3B', 'SIN3A', 'SAP30', 'RXRA', 'RNF2', 'RFX5', 'RFX1', 'REST', 'RCOR1', 'RBBP5', 'RAD51', 'RAD21', 'POU2F2', 'POLR2AphosphoS5', 'POLR2AphosphoS2', 'POLR2A', 'PML', 'PKNOX1', 'PHF8', 'PAX5', 'NRF1', 'NR3C1', 'NR2C2', 'NONO', 'NFYB', 'NFYA', 'NFXL1', 'NFRKB', 'NFIC', 'NFE2L2', 'NFATC3', 'NCOR1', 'NBN', 'MYC', 'MXI1', 'MTA3', 'MTA2', 'MTA1', 'MNT', 'MLLT1', 'MEF2A', 'MAZ', 'MAX', 'MAFK', 'MAFF', 'LEF1', 'LARP7', 'KDM5A', 'KDM1A', 'JUND', 'JUN', 'IRF3', 'IKZF1', 'HSF1', 'HDGF', 'HDAC6', 'HDAC2', 'HDAC1', 'HCFC1', 'GTF2F1', 'GATAD2B', 'GATA3', 'GABPA', 'FOXM1', 'FOXK2', 'FOXA1', 'FOSL2', 'FOSL1', 'FOS', 'EZH2', 'ETV6', 'ETS1', 'ESRRA', 'ESR1', 'EP300', 'ELK1', 'ELF1', 'EHMT2', 'EGR1', 'E4F1', 'E2F8', 'E2F6', 'E2F4', 'E2F1', 'DPF2', 'CUX1', 'CTCF', 'CTBP1', 'CSDE1', 'CREM', 'CREB1', 'CHD4', 'CHD2', 'CHD1', 'CEBPZ', 'CEBPB', 'CBX8', 'CBX5', 'CBX3', 'BRCA1', 'BMI1', 'BHLHE40', 'BCLAF1', 'BCL3', 'BCL11A', 'BACH1', 'ATF7', 'ATF3', 'ATF2', 'ARNT', 'ARID3A']),\n",
       " 162)"
      ]
     },
     "execution_count": 5,
     "metadata": {},
     "output_type": "execute_result"
    }
   ],
   "source": [
    "assaymap.keys(), len(set(assaymap.keys()))"
   ]
  },
  {
   "cell_type": "code",
   "execution_count": 6,
   "metadata": {},
   "outputs": [],
   "source": [
    "motif_data_dir = \"/data/yosef2/DC/footprintPrediction/geneInductionPipeline/TF_motifs/HOCOMOCO/pwmscanOut\"\n",
    "f = []\n",
    "for (dirpath, dirnames, filenames) in os.walk(motif_data_dir):\n",
    "    tfs = [file.split(\"_\")[0] for file in filenames]\n",
    "    f.extend(tfs)\n",
    "    break"
   ]
  },
  {
   "cell_type": "code",
   "execution_count": 11,
   "metadata": {},
   "outputs": [
    {
     "name": "stdout",
     "output_type": "stream",
     "text": [
      "66\n",
      "83\n"
     ]
    }
   ],
   "source": [
    "# Epitome TF's that we have data for in HOCOMOCCO\n",
    "tfs_hoco = set(assaymap.keys()).intersection(set(f))\n",
    "print(len(tfs_hoco))\n",
    "files_tfs_hoco = []\n",
    "for (dirpath, dirnames, filenames) in os.walk(motif_data_dir):\n",
    "    for filename in filenames:\n",
    "        tf = filename.split(\"_\")[0]\n",
    "        if tf in tfs_hoco and \"sorted\" in filename:\n",
    "            files_tfs_hoco.append(filename)\n",
    "print(len(files_tfs_hoco))"
   ]
  },
  {
   "cell_type": "code",
   "execution_count": 47,
   "metadata": {},
   "outputs": [],
   "source": [
    "#pd.Series(list(tfs_hoco)).rename(\"TF\").to_csv(\"data/motif_data/Epitome_HOCOMOCCO_TF.csv\")\n",
    "queried_tfs = pd.read_csv(\"data/motif_data\" + \"/Epitome_HOCOMOCCO_TF.csv\")['TF'] #parser.parse_args().tf\n",
    "# queried_tfs.to_list()"
   ]
  },
  {
   "cell_type": "code",
   "execution_count": 37,
   "metadata": {},
   "outputs": [
    {
     "data": {
      "text/plain": [
       "3268840"
      ]
     },
     "execution_count": 37,
     "metadata": {},
     "output_type": "execute_result"
    }
   ],
   "source": [
    "a = pybedtools.BedTool('data/epitome_data/all.pos.bed')\n",
    "a.count()"
   ]
  },
  {
   "cell_type": "code",
   "execution_count": 46,
   "metadata": {},
   "outputs": [
    {
     "name": "stdout",
     "output_type": "stream",
     "text": [
      "/home/eecs/jahnavis/epitome_new/epitome-1/epitome\n",
      "['NFYA', 'NFYB', 'ATF3', 'CEBPZ', 'MAZ', 'HSF1', 'ZFX', 'STAT3', 'NRF1', 'GATA3', 'E2F1', 'MXI1', 'USF2', 'EGR1', 'TCF7', 'ESR1', 'SRF', 'TBP', 'JUN', 'BACH1', 'PAX5', 'FOXA1', 'MYC', 'NFIC', 'E2F8', 'BRCA1', 'ETV6', 'NR2C2', 'TAF1', 'IKZF1', 'MAFF', 'E4F1', 'CUX1', 'RXRA', 'SP2', 'ETS1', 'LEF1', 'GABPA', 'E2F6', 'ATF2', 'ARNT', 'RFX5', 'MAX', 'SPI1', 'SP1', 'IRF3', 'ELK1', 'USF1', 'ATF7', 'STAT1', 'FOSL2', 'FOXM1', 'JUND', 'ELF1', 'CEBPB', 'TEAD4', 'MAFK', 'CREM', 'RFX1', 'CREB1', 'FOS', 'FOSL1', 'REST', 'E2F4', 'MEF2A', 'CTCF']\n",
      "Looking at /data/yosef2/DC/footprintPrediction/geneInductionPipeline/TF_motifs/HOCOMOCO/pwmscanOut/USF1_HUMAN.H11MO.0.A_co1331_matrix_scan.bed.sorted.bed ...\n",
      "Looking at /data/yosef2/DC/footprintPrediction/geneInductionPipeline/TF_motifs/HOCOMOCO/pwmscanOut/FOSL2_HUMAN.H11MO.0.A_co1484_matrix_scan.bed.sorted.bed ...\n",
      "Looking at /data/yosef2/DC/footprintPrediction/geneInductionPipeline/TF_motifs/HOCOMOCO/pwmscanOut/E2F1_HUMAN.H11MO.0.A_co1251_matrix_scan.bed.sorted.bed ...\n",
      "Looking at /data/yosef2/DC/footprintPrediction/geneInductionPipeline/TF_motifs/HOCOMOCO/pwmscanOut/MAFF_HUMAN.H11MO.1.B_co1308_matrix_scan.bed.sorted.bed ...\n",
      "Looking at /data/yosef2/DC/footprintPrediction/geneInductionPipeline/TF_motifs/HOCOMOCO/pwmscanOut/CREM_HUMAN.H11MO.0.C_co1361_matrix_scan.bed.sorted.bed ...\n",
      "Looking at /data/yosef2/DC/footprintPrediction/geneInductionPipeline/TF_motifs/HOCOMOCO/pwmscanOut/MAX_HUMAN.H11MO.0.A_co1253_matrix_scan.bed.sorted.bed ...\n",
      "Looking at /data/yosef2/DC/footprintPrediction/geneInductionPipeline/TF_motifs/HOCOMOCO/pwmscanOut/TCF7_HUMAN.H11MO.0.A_co1384_matrix_scan.bed.sorted.bed ...\n",
      "Looking at /data/yosef2/DC/footprintPrediction/geneInductionPipeline/TF_motifs/HOCOMOCO/pwmscanOut/ZFX_HUMAN.H11MO.0.A_co1265_matrix_scan.bed.sorted.bed ...\n",
      "Looking at /data/yosef2/DC/footprintPrediction/geneInductionPipeline/TF_motifs/HOCOMOCO/pwmscanOut/STAT3_HUMAN.H11MO.0.A_co1391_matrix_scan.bed.sorted.bed ...\n",
      "Looking at /data/yosef2/DC/footprintPrediction/geneInductionPipeline/TF_motifs/HOCOMOCO/pwmscanOut/IRF3_HUMAN.H11MO.0.B_co1415_matrix_scan.bed.sorted.bed ...\n",
      "Looking at /data/yosef2/DC/footprintPrediction/geneInductionPipeline/TF_motifs/HOCOMOCO/pwmscanOut/SRF_HUMAN.H11MO.0.A_co1422_matrix_scan.bed.sorted.bed ...\n",
      "Looking at /data/yosef2/DC/footprintPrediction/geneInductionPipeline/TF_motifs/HOCOMOCO/pwmscanOut/BACH1_HUMAN.H11MO.0.A_co1296_matrix_scan.bed.sorted.bed ...\n",
      "Looking at /data/yosef2/DC/footprintPrediction/geneInductionPipeline/TF_motifs/HOCOMOCO/pwmscanOut/ATF2_HUMAN.H11MO.0.B_co1370_matrix_scan.bed.sorted.bed ...\n",
      "Looking at /data/yosef2/DC/footprintPrediction/geneInductionPipeline/TF_motifs/HOCOMOCO/pwmscanOut/MEF2A_HUMAN.H11MO.0.A_co1475_matrix_scan.bed.sorted.bed ...\n",
      "Looking at /data/yosef2/DC/footprintPrediction/geneInductionPipeline/TF_motifs/HOCOMOCO/pwmscanOut/SPI1_HUMAN.H11MO.0.A_co1373_matrix_scan.bed.sorted.bed ...\n",
      "Looking at /data/yosef2/DC/footprintPrediction/geneInductionPipeline/TF_motifs/HOCOMOCO/pwmscanOut/FOXA1_HUMAN.H11MO.0.A_co1468_matrix_scan.bed.sorted.bed ...\n",
      "Looking at /data/yosef2/DC/footprintPrediction/geneInductionPipeline/TF_motifs/HOCOMOCO/pwmscanOut/BRCA1_HUMAN.H11MO.0.D_co1214_matrix_scan.bed.sorted.bed ...\n",
      "Looking at /data/yosef2/DC/footprintPrediction/geneInductionPipeline/TF_motifs/HOCOMOCO/pwmscanOut/CEBPZ_HUMAN.H11MO.0.D_co1430_matrix_scan.bed.sorted.bed ...\n",
      "Looking at /data/yosef2/DC/footprintPrediction/geneInductionPipeline/TF_motifs/HOCOMOCO/pwmscanOut/SP1_HUMAN.H11MO.1.A_co1098_matrix_scan.bed.sorted.bed ...\n",
      "Looking at /data/yosef2/DC/footprintPrediction/geneInductionPipeline/TF_motifs/HOCOMOCO/pwmscanOut/LEF1_HUMAN.H11MO.0.A_co1274_matrix_scan.bed.sorted.bed ...\n",
      "Looking at /data/yosef2/DC/footprintPrediction/geneInductionPipeline/TF_motifs/HOCOMOCO/pwmscanOut/RFX5_HUMAN.H11MO.1.A_co1339_matrix_scan.bed.sorted.bed ...\n",
      "Looking at /data/yosef2/DC/footprintPrediction/geneInductionPipeline/TF_motifs/HOCOMOCO/pwmscanOut/ZFX_HUMAN.H11MO.1.A_co1158_matrix_scan.bed.sorted.bed ...\n",
      "Looking at /data/yosef2/DC/footprintPrediction/geneInductionPipeline/TF_motifs/HOCOMOCO/pwmscanOut/NFIC_HUMAN.H11MO.1.A_co1231_matrix_scan.bed.sorted.bed ...\n",
      "Looking at /data/yosef2/DC/footprintPrediction/geneInductionPipeline/TF_motifs/HOCOMOCO/pwmscanOut/MYC_HUMAN.H11MO.0.A_co1300_matrix_scan.bed.sorted.bed ...\n",
      "Looking at /data/yosef2/DC/footprintPrediction/geneInductionPipeline/TF_motifs/HOCOMOCO/pwmscanOut/IKZF1_HUMAN.H11MO.0.C_co1199_matrix_scan.bed.sorted.bed ...\n",
      "Looking at /data/yosef2/DC/footprintPrediction/geneInductionPipeline/TF_motifs/HOCOMOCO/pwmscanOut/TBP_HUMAN.H11MO.0.A_co1339_matrix_scan.bed.sorted.bed ...\n",
      "Looking at /data/yosef2/DC/footprintPrediction/geneInductionPipeline/TF_motifs/HOCOMOCO/pwmscanOut/ATF7_HUMAN.H11MO.0.D_co1231_matrix_scan.bed.sorted.bed ...\n",
      "Looking at /data/yosef2/DC/footprintPrediction/geneInductionPipeline/TF_motifs/HOCOMOCO/pwmscanOut/CEBPB_HUMAN.H11MO.0.A_co1434_matrix_scan.bed.sorted.bed ...\n",
      "Looking at /data/yosef2/DC/footprintPrediction/geneInductionPipeline/TF_motifs/HOCOMOCO/pwmscanOut/REST_HUMAN.H11MO.0.A_co942_matrix_scan.bed.sorted.bed ...\n",
      "Looking at /data/yosef2/DC/footprintPrediction/geneInductionPipeline/TF_motifs/HOCOMOCO/pwmscanOut/SP2_HUMAN.H11MO.1.B_co1210_matrix_scan.bed.sorted.bed ...\n",
      "Looking at /data/yosef2/DC/footprintPrediction/geneInductionPipeline/TF_motifs/HOCOMOCO/pwmscanOut/FOXM1_HUMAN.H11MO.0.A_co1367_matrix_scan.bed.sorted.bed ...\n",
      "Looking at /data/yosef2/DC/footprintPrediction/geneInductionPipeline/TF_motifs/HOCOMOCO/pwmscanOut/NRF1_HUMAN.H11MO.0.A_co1099_matrix_scan.bed.sorted.bed ...\n",
      "Looking at /data/yosef2/DC/footprintPrediction/geneInductionPipeline/TF_motifs/HOCOMOCO/pwmscanOut/E2F4_HUMAN.H11MO.0.A_co1250_matrix_scan.bed.sorted.bed ...\n",
      "Looking at /data/yosef2/DC/footprintPrediction/geneInductionPipeline/TF_motifs/HOCOMOCO/pwmscanOut/ELF1_HUMAN.H11MO.0.A_co1327_matrix_scan.bed.sorted.bed ...\n",
      "Looking at /data/yosef2/DC/footprintPrediction/geneInductionPipeline/TF_motifs/HOCOMOCO/pwmscanOut/NFYB_HUMAN.H11MO.0.A_co1387_matrix_scan.bed.sorted.bed ...\n",
      "Looking at /data/yosef2/DC/footprintPrediction/geneInductionPipeline/TF_motifs/HOCOMOCO/pwmscanOut/FOS_HUMAN.H11MO.0.A_co1391_matrix_scan.bed.sorted.bed ...\n",
      "Looking at /data/yosef2/DC/footprintPrediction/geneInductionPipeline/TF_motifs/HOCOMOCO/pwmscanOut/STAT1_HUMAN.H11MO.1.A_co1469_matrix_scan.bed.sorted.bed ...\n",
      "Looking at /data/yosef2/DC/footprintPrediction/geneInductionPipeline/TF_motifs/HOCOMOCO/pwmscanOut/ATF3_HUMAN.H11MO.0.A_co1287_matrix_scan.bed.sorted.bed ...\n",
      "Looking at /data/yosef2/DC/footprintPrediction/geneInductionPipeline/TF_motifs/HOCOMOCO/pwmscanOut/MAFK_HUMAN.H11MO.0.A_co1327_matrix_scan.bed.sorted.bed ...\n",
      "Looking at /data/yosef2/DC/footprintPrediction/geneInductionPipeline/TF_motifs/HOCOMOCO/pwmscanOut/ESR1_HUMAN.H11MO.0.A_co1282_matrix_scan.bed.sorted.bed ...\n",
      "Looking at /data/yosef2/DC/footprintPrediction/geneInductionPipeline/TF_motifs/HOCOMOCO/pwmscanOut/ELK1_HUMAN.H11MO.0.B_co1313_matrix_scan.bed.sorted.bed ...\n",
      "Looking at /data/yosef2/DC/footprintPrediction/geneInductionPipeline/TF_motifs/HOCOMOCO/pwmscanOut/E2F4_HUMAN.H11MO.1.A_co1267_matrix_scan.bed.sorted.bed ...\n",
      "Looking at /data/yosef2/DC/footprintPrediction/geneInductionPipeline/TF_motifs/HOCOMOCO/pwmscanOut/NR2C2_HUMAN.H11MO.0.B_co1289_matrix_scan.bed.sorted.bed ...\n",
      "Looking at /data/yosef2/DC/footprintPrediction/geneInductionPipeline/TF_motifs/HOCOMOCO/pwmscanOut/E2F8_HUMAN.H11MO.0.D_co1282_matrix_scan.bed.sorted.bed ...\n",
      "Looking at /data/yosef2/DC/footprintPrediction/geneInductionPipeline/TF_motifs/HOCOMOCO/pwmscanOut/SP1_HUMAN.H11MO.0.A_co677_matrix_scan.bed.sorted.bed ...\n",
      "Looking at /data/yosef2/DC/footprintPrediction/geneInductionPipeline/TF_motifs/HOCOMOCO/pwmscanOut/TEAD4_HUMAN.H11MO.0.A_co1347_matrix_scan.bed.sorted.bed ...\n",
      "Looking at /data/yosef2/DC/footprintPrediction/geneInductionPipeline/TF_motifs/HOCOMOCO/pwmscanOut/EGR1_HUMAN.H11MO.0.A_co1210_matrix_scan.bed.sorted.bed ...\n",
      "Looking at /data/yosef2/DC/footprintPrediction/geneInductionPipeline/TF_motifs/HOCOMOCO/pwmscanOut/E2F6_HUMAN.H11MO.0.A_co1249_matrix_scan.bed.sorted.bed ...\n",
      "Looking at /data/yosef2/DC/footprintPrediction/geneInductionPipeline/TF_motifs/HOCOMOCO/pwmscanOut/ATF2_HUMAN.H11MO.1.B_co1215_matrix_scan.bed.sorted.bed ...\n"
     ]
    },
    {
     "name": "stdout",
     "output_type": "stream",
     "text": [
      "Looking at /data/yosef2/DC/footprintPrediction/geneInductionPipeline/TF_motifs/HOCOMOCO/pwmscanOut/E4F1_HUMAN.H11MO.0.D_co1354_matrix_scan.bed.sorted.bed ...\n",
      "Looking at /data/yosef2/DC/footprintPrediction/geneInductionPipeline/TF_motifs/HOCOMOCO/pwmscanOut/GABPA_HUMAN.H11MO.0.A_co1313_matrix_scan.bed.sorted.bed ...\n",
      "Looking at /data/yosef2/DC/footprintPrediction/geneInductionPipeline/TF_motifs/HOCOMOCO/pwmscanOut/RXRA_HUMAN.H11MO.0.A_co1259_matrix_scan.bed.sorted.bed ...\n",
      "Looking at /data/yosef2/DC/footprintPrediction/geneInductionPipeline/TF_motifs/HOCOMOCO/pwmscanOut/HSF1_HUMAN.H11MO.0.A_co1404_matrix_scan.bed.sorted.bed ...\n",
      "Looking at /data/yosef2/DC/footprintPrediction/geneInductionPipeline/TF_motifs/HOCOMOCO/pwmscanOut/FOSL1_HUMAN.H11MO.0.A_co1462_matrix_scan.bed.sorted.bed ...\n",
      "Looking at /data/yosef2/DC/footprintPrediction/geneInductionPipeline/TF_motifs/HOCOMOCO/pwmscanOut/ETV6_HUMAN.H11MO.0.D_co1273_matrix_scan.bed.sorted.bed ...\n",
      "Looking at /data/yosef2/DC/footprintPrediction/geneInductionPipeline/TF_motifs/HOCOMOCO/pwmscanOut/MAFK_HUMAN.H11MO.1.A_co1321_matrix_scan.bed.sorted.bed ...\n",
      "Looking at /data/yosef2/DC/footprintPrediction/geneInductionPipeline/TF_motifs/HOCOMOCO/pwmscanOut/RFX1_HUMAN.H11MO.1.B_co1340_matrix_scan.bed.sorted.bed ...\n",
      "Looking at /data/yosef2/DC/footprintPrediction/geneInductionPipeline/TF_motifs/HOCOMOCO/pwmscanOut/CUX1_HUMAN.H11MO.0.C_co1280_matrix_scan.bed.sorted.bed ...\n",
      "Looking at /data/yosef2/DC/footprintPrediction/geneInductionPipeline/TF_motifs/HOCOMOCO/pwmscanOut/ATF2_HUMAN.H11MO.2.C_co1340_matrix_scan.bed.sorted.bed ...\n",
      "Looking at /data/yosef2/DC/footprintPrediction/geneInductionPipeline/TF_motifs/HOCOMOCO/pwmscanOut/NFIC_HUMAN.H11MO.0.A_co1260_matrix_scan.bed.sorted.bed ...\n",
      "Looking at /data/yosef2/DC/footprintPrediction/geneInductionPipeline/TF_motifs/HOCOMOCO/pwmscanOut/RFX1_HUMAN.H11MO.0.B_co1129_matrix_scan.bed.sorted.bed ...\n",
      "Looking at /data/yosef2/DC/footprintPrediction/geneInductionPipeline/TF_motifs/HOCOMOCO/pwmscanOut/STAT1_HUMAN.H11MO.0.A_co1376_matrix_scan.bed.sorted.bed ...\n",
      "Looking at /data/yosef2/DC/footprintPrediction/geneInductionPipeline/TF_motifs/HOCOMOCO/pwmscanOut/SP2_HUMAN.H11MO.0.A_co1014_matrix_scan.bed.sorted.bed ...\n",
      "Looking at /data/yosef2/DC/footprintPrediction/geneInductionPipeline/TF_motifs/HOCOMOCO/pwmscanOut/ETS1_HUMAN.H11MO.0.A_co1324_matrix_scan.bed.sorted.bed ...\n",
      "Looking at /data/yosef2/DC/footprintPrediction/geneInductionPipeline/TF_motifs/HOCOMOCO/pwmscanOut/USF2_HUMAN.H11MO.0.A_co1221_matrix_scan.bed.sorted.bed ...\n",
      "Looking at /data/yosef2/DC/footprintPrediction/geneInductionPipeline/TF_motifs/HOCOMOCO/pwmscanOut/MAZ_HUMAN.H11MO.0.A_co1148_matrix_scan.bed.sorted.bed ...\n",
      "Looking at /data/yosef2/DC/footprintPrediction/geneInductionPipeline/TF_motifs/HOCOMOCO/pwmscanOut/RXRA_HUMAN.H11MO.1.A_co1290_matrix_scan.bed.sorted.bed ...\n",
      "Looking at /data/yosef2/DC/footprintPrediction/geneInductionPipeline/TF_motifs/HOCOMOCO/pwmscanOut/HSF1_HUMAN.H11MO.1.A_co1431_matrix_scan.bed.sorted.bed ...\n",
      "Looking at /data/yosef2/DC/footprintPrediction/geneInductionPipeline/TF_motifs/HOCOMOCO/pwmscanOut/ARNT_HUMAN.H11MO.0.B_co1222_matrix_scan.bed.sorted.bed ...\n",
      "Looking at /data/yosef2/DC/footprintPrediction/geneInductionPipeline/TF_motifs/HOCOMOCO/pwmscanOut/ESR1_HUMAN.H11MO.1.A_co1292_matrix_scan.bed.sorted.bed ...\n",
      "Looking at /data/yosef2/DC/footprintPrediction/geneInductionPipeline/TF_motifs/HOCOMOCO/pwmscanOut/MXI1_HUMAN.H11MO.0.A_co1214_matrix_scan.bed.sorted.bed ...\n",
      "Looking at /data/yosef2/DC/footprintPrediction/geneInductionPipeline/TF_motifs/HOCOMOCO/pwmscanOut/GATA3_HUMAN.H11MO.0.A_co1378_matrix_scan.bed.sorted.bed ...\n",
      "Looking at /data/yosef2/DC/footprintPrediction/geneInductionPipeline/TF_motifs/HOCOMOCO/pwmscanOut/MAFF_HUMAN.H11MO.0.B_co1352_matrix_scan.bed.sorted.bed ...\n",
      "Looking at /data/yosef2/DC/footprintPrediction/geneInductionPipeline/TF_motifs/HOCOMOCO/pwmscanOut/CTCF_HUMAN.H11MO.0.A_co1073_matrix_scan.bed.sorted.bed ...\n",
      "Looking at /data/yosef2/DC/footprintPrediction/geneInductionPipeline/TF_motifs/HOCOMOCO/pwmscanOut/PAX5_HUMAN.H11MO.0.A_co1198_matrix_scan.bed.sorted.bed ...\n",
      "Looking at /data/yosef2/DC/footprintPrediction/geneInductionPipeline/TF_motifs/HOCOMOCO/pwmscanOut/RFX5_HUMAN.H11MO.0.A_co1283_matrix_scan.bed.sorted.bed ...\n",
      "Looking at /data/yosef2/DC/footprintPrediction/geneInductionPipeline/TF_motifs/HOCOMOCO/pwmscanOut/MAZ_HUMAN.H11MO.1.A_co1228_matrix_scan.bed.sorted.bed ...\n",
      "Looking at /data/yosef2/DC/footprintPrediction/geneInductionPipeline/TF_motifs/HOCOMOCO/pwmscanOut/CREB1_HUMAN.H11MO.0.A_co1338_matrix_scan.bed.sorted.bed ...\n",
      "Looking at /data/yosef2/DC/footprintPrediction/geneInductionPipeline/TF_motifs/HOCOMOCO/pwmscanOut/TAF1_HUMAN.H11MO.0.A_co1236_matrix_scan.bed.sorted.bed ...\n",
      "Looking at /data/yosef2/DC/footprintPrediction/geneInductionPipeline/TF_motifs/HOCOMOCO/pwmscanOut/JUN_HUMAN.H11MO.0.A_co1473_matrix_scan.bed.sorted.bed ...\n",
      "Looking at /data/yosef2/DC/footprintPrediction/geneInductionPipeline/TF_motifs/HOCOMOCO/pwmscanOut/NFYA_HUMAN.H11MO.0.A_co1410_matrix_scan.bed.sorted.bed ...\n",
      "Looking at /data/yosef2/DC/footprintPrediction/geneInductionPipeline/TF_motifs/HOCOMOCO/pwmscanOut/JUND_HUMAN.H11MO.0.A_co1440_matrix_scan.bed.sorted.bed ...\n",
      "Looking at /data/yosef2/DC/footprintPrediction/geneInductionPipeline/TF_motifs/HOCOMOCO/pwmscanOut/MXI1_HUMAN.H11MO.1.A_co1237_matrix_scan.bed.sorted.bed ...\n"
     ]
    }
   ],
   "source": [
    "! python generate_motif_matrix.py --tf garb"
   ]
  },
  {
   "cell_type": "code",
   "execution_count": 87,
   "metadata": {},
   "outputs": [
    {
     "data": {
      "text/plain": [
       "(66, 3268840)"
      ]
     },
     "execution_count": 87,
     "metadata": {},
     "output_type": "execute_result"
    }
   ],
   "source": [
    "# TODO: Add to original matrix generator script\n",
    "motif_map = pd.read_csv(os.path.join(motif_dir, \"OVERLAP_HOCOMOCO_motifmap.csv\"), header=None).rename(\n",
    "    columns={0:\"Index\", 1:\"TF\"})\n",
    "unique_tf = motif_map[\"TF\"].unique()\n",
    "\n",
    "motif_mat_sum = np.empty((0, 3268840))\n",
    "motif_map_sum = []\n",
    "\n",
    "for tf in unique_tf:\n",
    "    tf_index = motif_map[motif_map[\"TF\"]==tf][\"Index\"]\n",
    "    tf_motif = motif_mat[tf_index,:]\n",
    "    tf_motif_sum = np.sum(tf_motif, axis=0)\n",
    "    tf_motif_sum[tf_motif_sum > 0] = 1\n",
    "    motif_mat_sum = np.append(motif_mat_sum, [tf_motif_sum], axis=0)\n",
    "    motif_map_sum = np.append(motif_map_sum, tf)\n",
    "\n",
    "motif_mat_sum.shape"
   ]
  },
  {
   "cell_type": "code",
   "execution_count": 97,
   "metadata": {},
   "outputs": [
    {
     "name": "stdout",
     "output_type": "stream",
     "text": [
      "[0. 1.]\n",
      "[0. 1.]\n"
     ]
    }
   ],
   "source": [
    "motifs_0 = motif_mat_sum[:,1]\n",
    "print(np.unique(motifs_0))\n",
    "motifs_0[motifs_0 > 0] = 1\n",
    "print(np.unique(motifs_0))"
   ]
  },
  {
   "cell_type": "code",
   "execution_count": 56,
   "metadata": {},
   "outputs": [
    {
     "data": {
      "text/plain": [
       "(83, 3268840)"
      ]
     },
     "execution_count": 56,
     "metadata": {},
     "output_type": "execute_result"
    }
   ],
   "source": [
    "motif_mat = np.load(os.path.join(motif_dir, \"OVERLAP_HOCOMOCO_motifmat.npz\"))[\"tf\"]\n",
    "motif_mat.shape"
   ]
  },
  {
   "cell_type": "code",
   "execution_count": 86,
   "metadata": {},
   "outputs": [
    {
     "data": {
      "text/plain": [
       "(3, 3268840)"
      ]
     },
     "execution_count": 86,
     "metadata": {},
     "output_type": "execute_result"
    }
   ],
   "source": [
    "motif_mat[[1,3,5],:].shape"
   ]
  },
  {
   "cell_type": "code",
   "execution_count": 6,
   "metadata": {},
   "outputs": [],
   "source": [
    "# Load motif data\n",
    "motif_mat = np.load(os.path.join(motif_dir, \"CTCF_HOCOMOCO_motifmat.npz\"))['tf'][0]\n",
    "motif_map = pd.read_csv(os.path.join(motif_dir, \"CTCF_HOCOMOCO_motifmap.csv\"), header=None)"
   ]
  },
  {
   "cell_type": "code",
   "execution_count": 11,
   "metadata": {},
   "outputs": [
    {
     "data": {
      "text/plain": [
       "(3268840,)"
      ]
     },
     "execution_count": 11,
     "metadata": {},
     "output_type": "execute_result"
    }
   ],
   "source": [
    "chip_k562_ctcf = chip_data[matrix[cellmap['K562'], assaymap['CTCF']],:]\n",
    "chip_k562_ctcf.shape"
   ]
  },
  {
   "cell_type": "code",
   "execution_count": 13,
   "metadata": {},
   "outputs": [
    {
     "data": {
      "text/plain": [
       "(3268840,)"
      ]
     },
     "execution_count": 13,
     "metadata": {},
     "output_type": "execute_result"
    }
   ],
   "source": [
    "chip_k562_dnase = chip_data[matrix[cellmap['K562'], assaymap['DNase']],:]\n",
    "chip_k562_dnase.shape"
   ]
  },
  {
   "cell_type": "code",
   "execution_count": 14,
   "metadata": {},
   "outputs": [
    {
     "data": {
      "text/plain": [
       "0.18570827671002393"
      ]
     },
     "execution_count": 14,
     "metadata": {},
     "output_type": "execute_result"
    }
   ],
   "source": [
    "jaccard_score(chip_k562_ctcf, motif_mat)"
   ]
  },
  {
   "cell_type": "code",
   "execution_count": 23,
   "metadata": {},
   "outputs": [
    {
     "name": "stdout",
     "output_type": "stream",
     "text": [
      "T47D: 0.16931983890007637\n",
      "SK-N-SH: 0.19625284755691239\n",
      "MCF-7: 0.17406631815237206\n",
      "K562: 0.18570827671002393\n",
      "Ishikawa: 0.1503725877332654\n",
      "IMR-90: 0.18723004998624973\n",
      "HepG2: 0.19004735964073088\n",
      "HeLa-S3: 0.18861978591051184\n",
      "HEK293T: 0.0375234806944962\n",
      "HCT116: 0.19425196792412538\n",
      "H1: 0.12943820990072033\n",
      "GM12892: 0.15670631349370434\n",
      "GM12891: 0.1395153571008749\n",
      "GM12878: 0.18085123697916666\n",
      "A549: 0.16926544240400668\n"
     ]
    }
   ],
   "source": [
    "jaccard_ctcf_motif = {}\n",
    "for cell_type in cellmap.keys():\n",
    "    score = jaccard_score(chip_data[matrix[cellmap[cell_type], assaymap['CTCF']],:], motif_mat)\n",
    "    jaccard_ctcf_motif[cell_type] = score\n",
    "    print(\"{}: {}\".format(cell_type, score))"
   ]
  },
  {
   "cell_type": "code",
   "execution_count": 20,
   "metadata": {},
   "outputs": [
    {
     "name": "stdout",
     "output_type": "stream",
     "text": [
      "T47D: 0.06051556175314237\n",
      "SK-N-SH: 0.10359291547806304\n",
      "MCF-7: 0.10466254516362974\n",
      "K562: 0.09362020812484875\n",
      "Ishikawa: 0.1162066628816322\n",
      "IMR-90: 0.09688068091061908\n",
      "HepG2: 0.0934063954577551\n",
      "HeLa-S3: 0.12387221016627624\n",
      "HEK293T: 0.08565332894928579\n",
      "HCT116: 0.20921013484718123\n",
      "H1: 0.048866313548055956\n",
      "GM12892: 0.10636024698271415\n",
      "GM12891: 0.11102015842304576\n",
      "GM12878: 0.08846546554309052\n",
      "A549: 0.09218944857127366\n"
     ]
    }
   ],
   "source": [
    "jaccard_dnase = {}\n",
    "for cell_type in cellmap.keys():\n",
    "    score = jaccard_score(chip_data[matrix[cellmap[cell_type], assaymap['CTCF']],:], \n",
    "                          chip_data[matrix[cellmap[cell_type], assaymap['DNase']],:])\n",
    "    jaccard_dnase[cell_type] = score\n",
    "    print(\"{}: {}\".format(cell_type, score))"
   ]
  },
  {
   "cell_type": "code",
   "execution_count": 21,
   "metadata": {},
   "outputs": [],
   "source": [
    "chip_all_ctcf = chip_data[matrix[:, assaymap['CTCF']],:]\n",
    "chip_all_ctcf_sum = np.sum(chip_all_ctcf, axis=0)\n",
    "chip_all_ctcf_sum[chip_all_ctcf_sum > 0] = 1"
   ]
  },
  {
   "cell_type": "code",
   "execution_count": 22,
   "metadata": {},
   "outputs": [
    {
     "data": {
      "text/plain": [
       "0.1985260701344961"
      ]
     },
     "execution_count": 22,
     "metadata": {},
     "output_type": "execute_result"
    }
   ],
   "source": [
    "jaccard_score(chip_all_ctcf_sum, motif_mat)"
   ]
  },
  {
   "cell_type": "code",
   "execution_count": 32,
   "metadata": {},
   "outputs": [
    {
     "data": {
      "text/plain": [
       "0.16327793820581576"
      ]
     },
     "execution_count": 32,
     "metadata": {},
     "output_type": "execute_result"
    }
   ],
   "source": [
    "np.mean(list(jaccard_ctcf_motif.values()))"
   ]
  },
  {
   "cell_type": "code",
   "execution_count": null,
   "metadata": {},
   "outputs": [],
   "source": []
  }
 ],
 "metadata": {
  "kernelspec": {
   "display_name": "EpitomeNewEnv2",
   "language": "python",
   "name": "epitomenewenv2"
  },
  "language_info": {
   "codemirror_mode": {
    "name": "ipython",
    "version": 3
   },
   "file_extension": ".py",
   "mimetype": "text/x-python",
   "name": "python",
   "nbconvert_exporter": "python",
   "pygments_lexer": "ipython3",
   "version": "3.6.10"
  }
 },
 "nbformat": 4,
 "nbformat_minor": 2
}
