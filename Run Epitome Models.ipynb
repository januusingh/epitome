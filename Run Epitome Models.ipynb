{
 "cells": [
  {
   "cell_type": "code",
   "execution_count": 1,
   "metadata": {},
   "outputs": [
    {
     "name": "stderr",
     "output_type": "stream",
     "text": [
      "/home/eecs/jahnavis/miniconda/envs/EpitomeNewEnv2/lib/python3.6/site-packages/matplotlib/__init__.py:886: MatplotlibDeprecationWarning: \n",
      "examples.directory is deprecated; in the future, examples will be found relative to the 'datapath' directory.\n",
      "  \"found relative to the 'datapath' directory.\".format(key))\n"
     ]
    }
   ],
   "source": [
    "import argparse\n",
    "import os\n",
    "from epitome.models import *\n",
    "from epitome.functions import *\n",
    "from epitome.viz  import *\n",
    "\n",
    "from epitome.constants import *\n",
    "from epitome.motif_functions import *\n",
    "import yaml\n",
    "import subprocess\n",
    "from timeit import default_timer as timer"
   ]
  },
  {
   "cell_type": "markdown",
   "metadata": {},
   "source": [
    "### Set Up"
   ]
  },
  {
   "cell_type": "code",
   "execution_count": 2,
   "metadata": {},
   "outputs": [],
   "source": [
    "results_path = \"results\"\n",
    "epitome_data_path = \"data/epitome_data\" \n",
    "motif_dir = \"data/motif_data/\"\n",
    "feature_path = os.path.join(epitome_data_path, \"feature_name\")"
   ]
  },
  {
   "cell_type": "code",
   "execution_count": 3,
   "metadata": {},
   "outputs": [],
   "source": [
    "# create user directories if they do not exist\n",
    "epitome_results_dir = os.path.join(results_path, \"epitome_results\")\n",
    "if not os.path.exists(epitome_results_dir):\n",
    "    os.makedirs(epitome_results_dir)\n",
    "tf_epitome_results_dir = os.path.join(epitome_results_dir, \"OVERLAP_results\")\n",
    "if not os.path.exists(tf_epitome_results_dir):\n",
    "    os.makedirs(tf_epitome_results_dir)\n",
    "model_dir = os.path.join(results_path, \"epitome_models\")\n",
    "if not os.path.exists(model_dir):\n",
    "    os.makedirs(model_dir)\n",
    "tf_model_dir = os.path.join(model_dir, \"OVERLAP_models\")\n",
    "if not os.path.exists(tf_model_dir):\n",
    "    os.makedirs(tf_model_dir)"
   ]
  },
  {
   "cell_type": "markdown",
   "metadata": {},
   "source": [
    "### Load in Data for Epitome"
   ]
  },
  {
   "cell_type": "code",
   "execution_count": 4,
   "metadata": {},
   "outputs": [],
   "source": [
    "train_data = scipy.sparse.load_npz(os.path.join(epitome_data_path, 'train.npz')).toarray()\n",
    "valid_data = scipy.sparse.load_npz(os.path.join(epitome_data_path, 'valid.npz')).toarray()\n",
    "test_data = scipy.sparse.load_npz(os.path.join(epitome_data_path, 'test.npz')).toarray()\n",
    "data = {Dataset.TRAIN: train_data, Dataset.VALID: valid_data, Dataset.TEST: test_data}\n",
    "# all_data = np.concatenate((data[Dataset.TRAIN], data[Dataset.VALID], data[Dataset.TEST]), axis=1)"
   ]
  },
  {
   "cell_type": "code",
   "execution_count": 5,
   "metadata": {},
   "outputs": [],
   "source": [
    "motifmat = np.load(os.path.join(motif_dir, \"OVERLAP_HOCOMOCO_unique_motifmat.npz\"))[\"tf\"]\n",
    "motifmap = pd.read_csv(os.path.join(motif_dir, \"OVERLAP_HOCOMOCO_unique_motifmap.csv\"), \n",
    "                       header=None).rename(columns={0:\"Index\", 1:\"TF\"})"
   ]
  },
  {
   "cell_type": "code",
   "execution_count": 6,
   "metadata": {},
   "outputs": [],
   "source": [
    "epitome_tfs = list(motifmap[\"TF\"].unique()) + [\"DNase\"]\n",
    "query_cell = 'K562' #'T47D'\n",
    "eval_results_df = pd.DataFrame(columns=['transcription_factor', 'query_cell', 'auROC', 'auPRC'])"
   ]
  },
  {
   "cell_type": "code",
   "execution_count": 7,
   "metadata": {},
   "outputs": [
    {
     "data": {
      "text/plain": [
       "(12,\n",
       " 9,\n",
       " {'CTCF', 'E2F1', 'EGR1', 'FOXA1', 'GABPA', 'JUND', 'MAX', 'REST', 'TAF1'})"
      ]
     },
     "execution_count": 7,
     "metadata": {},
     "output_type": "execute_result"
    }
   ],
   "source": [
    "anchor_tfs = [\"CTCF\", \"E2F1\", \"EGR1\", \"FOXA1\", \"FOXA2\", \"GABPA\", \"HNF4A\", \"JUND\", \n",
    "              \"MAX\", \"NANOG\", \"REST\", \"TAF1\"]\n",
    "anchor_overlap_tfs = set(epitome_tfs).intersection(set(anchor_tfs))\n",
    "len(anchor_tfs), len(anchor_overlap_tfs), anchor_overlap_tfs"
   ]
  },
  {
   "cell_type": "markdown",
   "metadata": {},
   "source": [
    "### Train VLP Model With Motif Data"
   ]
  },
  {
   "cell_type": "code",
   "execution_count": 8,
   "metadata": {},
   "outputs": [],
   "source": [
    "matrix, cellmap, assaymap = get_assays_from_feature_file(feature_path,\n",
    "                                                         eligible_assays = list(anchor_overlap_tfs),\n",
    "                                                         eligible_cells = None, \n",
    "                                                         min_cells_per_assay = 2, \n",
    "                                                         min_assays_per_cell= 2) #10)"
   ]
  },
  {
   "cell_type": "code",
   "execution_count": 10,
   "metadata": {},
   "outputs": [
    {
     "name": "stdout",
     "output_type": "stream",
     "text": [
      "using ['T47D', 'SK-N-SH', 'MCF-7', 'K562', 'Ishikawa', 'IMR-90', 'HepG2', 'HeLa-S3', 'HEK293T', 'HCT116', 'H1', 'GM12892', 'GM12891', 'GM12878', 'A549'] as labels for mode Dataset.TRAIN\n",
      "using ['T47D', 'SK-N-SH', 'MCF-7', 'K562', 'Ishikawa', 'IMR-90', 'HepG2', 'HeLa-S3', 'HEK293T', 'HCT116', 'H1', 'GM12892', 'GM12891', 'GM12878', 'A549'] as labels for mode Dataset.VALID\n",
      "INFO:tensorflow:Starting Training\n",
      "INFO:tensorflow:0 tf.Tensor(227.00458, shape=(), dtype=float32)tf.Tensor(20.411797, shape=(), dtype=float32)tf.Tensor(206.59277, shape=(), dtype=float32)\n",
      "INFO:tensorflow:1000 tf.Tensor(137.86789, shape=(), dtype=float32)tf.Tensor(7.412508, shape=(), dtype=float32)tf.Tensor(130.45538, shape=(), dtype=float32)\n",
      "INFO:tensorflow:2000 tf.Tensor(81.39781, shape=(), dtype=float32)tf.Tensor(13.743153, shape=(), dtype=float32)tf.Tensor(67.65466, shape=(), dtype=float32)\n",
      "INFO:tensorflow:3000 tf.Tensor(41.888596, shape=(), dtype=float32)tf.Tensor(9.332393, shape=(), dtype=float32)tf.Tensor(32.556206, shape=(), dtype=float32)\n",
      "INFO:tensorflow:4000 tf.Tensor(36.655197, shape=(), dtype=float32)tf.Tensor(17.617954, shape=(), dtype=float32)tf.Tensor(19.037241, shape=(), dtype=float32)\n"
     ]
    }
   ],
   "source": [
    "model = VLP(anchor_overlap_tfs,\n",
    "            data = data,\n",
    "            matrix = matrix,\n",
    "            cellmap = cellmap,\n",
    "            assaymap = assaymap,\n",
    "            motifmat= motifmat, \n",
    "            motifmap= motifmap)\n",
    "\n",
    "model.train(5000) # train for 5000 iterations\n",
    "model_path = os.path.join(model_dir, query_cell)\n",
    "model.save(model_path)"
   ]
  },
  {
   "cell_type": "code",
   "execution_count": 11,
   "metadata": {},
   "outputs": [
    {
     "name": "stderr",
     "output_type": "stream",
     "text": [
      "157it [01:14,  2.11it/s]\n",
      "/home/eecs/jahnavis/miniconda/envs/EpitomeNewEnv2/lib/python3.6/site-packages/sklearn/metrics/_ranking.py:679: RuntimeWarning: invalid value encountered in true_divide\n",
      "  precision = tps / (tps + fps)\n"
     ]
    },
    {
     "name": "stdout",
     "output_type": "stream",
     "text": [
      "INFO:tensorflow:macro auROC:     0.8383735993828211\n",
      "INFO:tensorflow:auPRC:     0.17998487067527605\n",
      "INFO:tensorflow:GINI:     0.8448085598443864\n",
      "Model auROC: 0.8383735993828211. Model auPRC: 0.17998487067527605.\n"
     ]
    },
    {
     "name": "stderr",
     "output_type": "stream",
     "text": [
      "/home/eecs/jahnavis/miniconda/envs/EpitomeNewEnv2/lib/python3.6/site-packages/sklearn/metrics/_ranking.py:679: RuntimeWarning: invalid value encountered in true_divide\n",
      "  precision = tps / (tps + fps)\n",
      "/home/eecs/jahnavis/miniconda/envs/EpitomeNewEnv2/lib/python3.6/site-packages/sklearn/metrics/_ranking.py:679: RuntimeWarning: invalid value encountered in true_divide\n",
      "  precision = tps / (tps + fps)\n",
      "/home/eecs/jahnavis/miniconda/envs/EpitomeNewEnv2/lib/python3.6/site-packages/sklearn/metrics/_ranking.py:679: RuntimeWarning: invalid value encountered in true_divide\n",
      "  precision = tps / (tps + fps)\n",
      "/home/eecs/jahnavis/miniconda/envs/EpitomeNewEnv2/lib/python3.6/site-packages/sklearn/metrics/_ranking.py:679: RuntimeWarning: invalid value encountered in true_divide\n",
      "  precision = tps / (tps + fps)\n"
     ]
    }
   ],
   "source": [
    "model_results = model.test(10000, calculate_metrics=True)\n",
    "print('Model auROC: %s. Model auPRC: %s.' % (model_results['auROC'], model_results['auPRC'])) "
   ]
  },
  {
   "cell_type": "code",
   "execution_count": 12,
   "metadata": {},
   "outputs": [],
   "source": [
    "eval_results_df = eval_results_df.append({ \n",
    "   'transcription_factor' : 'Epitome_Anchor_OVERLAP',\n",
    "   'query_cell' : query_cell,\n",
    "   'auROC' : model_results['auROC'],\n",
    "   'auPRC' : model_results['auPRC']}, \n",
    "    ignore_index=True)\n",
    "eval_results_df.to_csv(os.path.join(tf_model_dir,'epitome_Anchor_OVERLAP.csv'), sep=\"\\t\")"
   ]
  },
  {
   "cell_type": "markdown",
   "metadata": {},
   "source": [
    "### VLP Model Without Motif Data"
   ]
  },
  {
   "cell_type": "code",
   "execution_count": null,
   "metadata": {},
   "outputs": [],
   "source": [
    "matrix, cellmap, assaymap = get_assays_from_feature_file(feature_path,\n",
    "                                                         eligible_assays = list(anchor_overlap_tfs),\n",
    "                                                         eligible_cells = None, \n",
    "                                                         min_cells_per_assay = 2, \n",
    "                                                         min_assays_per_cell= 2) #10)"
   ]
  },
  {
   "cell_type": "code",
   "execution_count": null,
   "metadata": {},
   "outputs": [],
   "source": [
    "model = VLP(anchor_overlap_tfs,\n",
    "            data = data,\n",
    "            matrix = matrix,\n",
    "            cellmap = cellmap,\n",
    "            assaymap = assaymap)\n",
    "\n",
    "model.train(5000) # train for 5000 iterations\n",
    "model_path = os.path.join(model_dir, \"no_motif_\" + query_cell)\n",
    "model.save(model_path)"
   ]
  },
  {
   "cell_type": "code",
   "execution_count": null,
   "metadata": {},
   "outputs": [],
   "source": [
    "model_results = model.test(10000, calculate_metrics=True)\n",
    "print('Model auROC: %s. Model auPRC: %s.' % (model_results['auROC'], model_results['auPRC'])) "
   ]
  },
  {
   "cell_type": "code",
   "execution_count": null,
   "metadata": {},
   "outputs": [],
   "source": [
    "eval_results_df = eval_results_df.append({ \n",
    "   'transcription_factor' : 'Epitome_Anchor_OVERLAP',\n",
    "   'query_cell' : query_cell,\n",
    "   'auROC' : model_results['auROC'],\n",
    "   'auPRC' : model_results['auPRC']}, \n",
    "    ignore_index=True)\n",
    "eval_results_df.to_csv(os.path.join(tf_model_dir,'no_motif_epitome_Anchor_OVERLAP.csv'), sep=\"\\t\")"
   ]
  },
  {
   "cell_type": "code",
   "execution_count": null,
   "metadata": {},
   "outputs": [],
   "source": []
  }
 ],
 "metadata": {
  "kernelspec": {
   "display_name": "EpitomeNewEnv2",
   "language": "python",
   "name": "epitomenewenv2"
  }
 },
 "nbformat": 4,
 "nbformat_minor": 2
}
